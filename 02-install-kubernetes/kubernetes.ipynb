{
 "cells": [
  {
   "attachments": {},
   "cell_type": "markdown",
   "metadata": {},
   "source": [
    "stdin, stdout, stderr = client.exec_command()\n",
    "\n",
    "print_std(stdout, stderr)"
   ]
  },
  {
   "cell_type": "code",
   "execution_count": null,
   "metadata": {},
   "outputs": [],
   "source": [
    "import paramiko, json\n",
    "\n",
    "with open(\"../01-deploy-aws-infra/inventory.json\", 'r') as file:\n",
    "    _DATA = json.load(file)\n",
    "_SSH_KEY = _DATA[\"KeyPairPath\"]\n",
    "_HOST = _DATA[\"Instances\"][0][\"InstanceIp\"]\n",
    "_PORT = 22\n",
    "_USER = \"ubuntu\""
   ]
  },
  {
   "cell_type": "code",
   "execution_count": null,
   "metadata": {},
   "outputs": [],
   "source": [
    "def print_std(stdout, stderr):\n",
    "    stdout = stdout.readlines()\n",
    "    stderr = stderr.readlines()\n",
    "    print(\"\\t*** STDOUT ***\")\n",
    "    [print(i) for i in stdout]\n",
    "    print(\"\\n\\t*** STDERR ***\")\n",
    "    [print(i) for i in stderr]\n",
    "    \n",
    "def get_stdout(stdout):\n",
    "    stdout = stdout.readline()\n",
    "    return stdout"
   ]
  },
  {
   "attachments": {},
   "cell_type": "markdown",
   "metadata": {},
   "source": [
    "# Config Master + Slave"
   ]
  },
  {
   "cell_type": "code",
   "execution_count": null,
   "metadata": {},
   "outputs": [],
   "source": [
    "client = paramiko.SSHClient()\n",
    "client.set_missing_host_key_policy(paramiko.AutoAddPolicy())\n",
    "client.connect(hostname=_HOST, username=_USER, key_filename=_SSH_KEY)\n",
    "\n",
    "\n",
    "\n"
   ]
  },
  {
   "cell_type": "code",
   "execution_count": null,
   "metadata": {},
   "outputs": [],
   "source": [
    "stdin, stdout, stderr = client.exec_command(\"swapoff -a\")\n",
    "print_std(stdout, stderr)"
   ]
  },
  {
   "cell_type": "code",
   "execution_count": null,
   "metadata": {},
   "outputs": [],
   "source": [
    "stdin, stdout, stderr = client.exec_command(\"hostname -i\")\n",
    "host_ip = get_stdout(stdout)\n",
    "print(host_ip)\n"
   ]
  },
  {
   "attachments": {},
   "cell_type": "markdown",
   "metadata": {},
   "source": [
    "## Installation Docker"
   ]
  },
  {
   "cell_type": "code",
   "execution_count": null,
   "metadata": {},
   "outputs": [],
   "source": [
    "stdin, stdout, stderr = client.exec_command(\"wget -qO- https://get.docker.com/ | sh\")\n",
    "print_std(stdout, stderr)"
   ]
  },
  {
   "attachments": {},
   "cell_type": "markdown",
   "metadata": {},
   "source": [
    "## Installation Kubernetes"
   ]
  },
  {
   "cell_type": "code",
   "execution_count": null,
   "metadata": {},
   "outputs": [],
   "source": [
    "stdin, stdout, stderr = client.exec_command(\"modprobe br_netfilter\")\n",
    "print_std(stdout, stderr)\n",
    "\n",
    "stdin, stdout, stderr = client.exec_command(\"\"\"\n",
    "cat <<EOF | sudo tee /etc/sysctl.d/k8s.conf\n",
    "net.bridge.bridge-nf-call-ip6tables = 1\n",
    "net.bridge.bridge-nf-call-iptables = 1 \n",
    "EOF\"\"\")\n",
    "print_std(stdout, stderr)\n"
   ]
  },
  {
   "cell_type": "code",
   "execution_count": null,
   "metadata": {},
   "outputs": [],
   "source": [
    "stdin, stdout, stderr = client.exec_command(\"sudo sysctl --system\")\n",
    "print_std(stdout, stderr)"
   ]
  },
  {
   "cell_type": "code",
   "execution_count": null,
   "metadata": {},
   "outputs": [],
   "source": [
    "stdout, stdin, stderr = client.exec_command(\"curl -s https://packages.cloud.google.com/apt/doc/apt-key.gpg | sudo apt-key add -\")\n",
    "print_std(stdin, stderr)\n",
    "\n",
    "stdout, stdin, stderr = client.exec_command(\"\"\"\n",
    "cat <<EOF | sudo tee /etc/apt/sources.list.d/kubernetes.list\n",
    "deb https://apt.kubernetes.io/ kubernetes-xenial main\n",
    "EOF\"\"\")\n",
    "print_std(stdin, stderr)"
   ]
  },
  {
   "cell_type": "code",
   "execution_count": null,
   "metadata": {},
   "outputs": [],
   "source": [
    "stdout, stdin, stderr = client.exec_command(\"sudo apt-get update\")\n",
    "print_std(stdin, stderr)\n",
    "\n",
    "stdout, stdin, stderr = client.exec_command(\"sudo apt-get install -y kubelet kubeadm kubectl\")\n",
    "print_std(stdin, stderr)"
   ]
  },
  {
   "cell_type": "code",
   "execution_count": null,
   "metadata": {},
   "outputs": [],
   "source": [
    "stdin, stdout, stderr = client.exec_command(\"sudo sed -i 's|Environment=\\\"KUBELET_CONFIG_ARGS=--config=/var/lib/kubelet/config.yaml\\\"|Environment=\\\"KUBELET_CONFIG_ARGS=--config=/var/lib/kubelet/config.yaml --cgroup-driver=cgroupfs\\\"|' /etc/systemd/system/kubelet.service.d/10-kubeadm.conf\")\n",
    "print_std(stdout, stderr)"
   ]
  },
  {
   "cell_type": "code",
   "execution_count": null,
   "metadata": {},
   "outputs": [],
   "source": [
    "stdin, stdout, stderr = client.exec_command(\"sudo systemctl daemon-reload\")\n",
    "print_std(stdout, stderr)"
   ]
  },
  {
   "cell_type": "code",
   "execution_count": null,
   "metadata": {},
   "outputs": [],
   "source": [
    "client.close()"
   ]
  },
  {
   "attachments": {},
   "cell_type": "markdown",
   "metadata": {},
   "source": [
    "# Configuration Master"
   ]
  },
  {
   "cell_type": "code",
   "execution_count": null,
   "metadata": {},
   "outputs": [],
   "source": [
    "client.connect(hostname=_HOST, username=_USER, key_filename=_SSH_KEY)\n"
   ]
  },
  {
   "cell_type": "code",
   "execution_count": null,
   "metadata": {},
   "outputs": [],
   "source": [
    "stdin, stdout, stderr = client.exec_command(\"sudo rm /etc/containerd/config.toml && sudo systemctl restart containerd\")\n",
    "print_std(stdout, stderr)"
   ]
  },
  {
   "cell_type": "code",
   "execution_count": null,
   "metadata": {},
   "outputs": [],
   "source": [
    "stdin, stdout, stderr = client.exec_command(\"sudo kubeadm init --pod-network-cidr=10.244.0.0/16 --ignore-preflight-errors=all --v=5\")\n",
    "print_std(stdout, stderr)"
   ]
  },
  {
   "cell_type": "code",
   "execution_count": null,
   "metadata": {},
   "outputs": [],
   "source": [
    "stdin, stdout, stderr = client.exec_command(\"sudo kubeadm token create --print-join-command\")\n",
    "master_join_command = get_stdout(stdout)\n",
    "print(master_join_command)"
   ]
  },
  {
   "cell_type": "code",
   "execution_count": null,
   "metadata": {},
   "outputs": [],
   "source": [
    "stdin, stdout, stderr = client.exec_command(\"sudo mkdir -p $HOME/.kube && sudo cp -i /etc/kubernetes/admin.conf $HOME/.kube/config && sudo chown $(id -u):$(id -g) $HOME/.kube/config\")\n",
    "print_std(stdout, stderr)"
   ]
  },
  {
   "cell_type": "code",
   "execution_count": null,
   "metadata": {},
   "outputs": [],
   "source": [
    "stdin, stdout, stderr = client.exec_command(\"kubectl get nodes && kubectl get pods --all-namespaces\")\n",
    "print_std(stdout, stderr)"
   ]
  },
  {
   "cell_type": "code",
   "execution_count": null,
   "metadata": {},
   "outputs": [],
   "source": [
    "stdin, stdout, stderr = client.exec_command(\"kubectl apply -f https://raw.githubusercontent.com/coreos/flannel/master/Documentation/kube-flannel.yml\")\n",
    "print_std(stdout, stderr)"
   ]
  },
  {
   "cell_type": "code",
   "execution_count": null,
   "metadata": {},
   "outputs": [],
   "source": [
    "stdin, stdout, stderr = client.exec_command(\"kubectl get nodes && kubectl get pods --all-namespaces\")\n",
    "print_std(stdout, stderr)"
   ]
  }
 ],
 "metadata": {
  "kernelspec": {
   "display_name": "projet-cloud-02",
   "language": "python",
   "name": "python3"
  },
  "language_info": {
   "codemirror_mode": {
    "name": "ipython",
    "version": 3
   },
   "file_extension": ".py",
   "mimetype": "text/x-python",
   "name": "python",
   "nbconvert_exporter": "python",
   "pygments_lexer": "ipython3",
   "version": "3.10.6"
  },
  "orig_nbformat": 4,
  "vscode": {
   "interpreter": {
    "hash": "e2735f31f6a6e190affc85679c33fabf78c3f12d880b9bf0a6236376a99838e0"
   }
  }
 },
 "nbformat": 4,
 "nbformat_minor": 2
}
